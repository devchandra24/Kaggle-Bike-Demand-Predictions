{
 "cells": [
  {
   "cell_type": "code",
   "execution_count": 1,
   "id": "34aaabc7",
   "metadata": {
    "ExecuteTime": {
     "end_time": "2022-05-26T04:50:51.839508Z",
     "start_time": "2022-05-26T04:50:47.392782Z"
    },
    "execution": {
     "iopub.execute_input": "2023-12-08T15:14:07.615801Z",
     "iopub.status.busy": "2023-12-08T15:14:07.615058Z",
     "iopub.status.idle": "2023-12-08T15:14:08.985580Z",
     "shell.execute_reply": "2023-12-08T15:14:08.984361Z"
    },
    "papermill": {
     "duration": 1.388192,
     "end_time": "2023-12-08T15:14:08.988682",
     "exception": false,
     "start_time": "2023-12-08T15:14:07.600490",
     "status": "completed"
    },
    "tags": []
   },
   "outputs": [],
   "source": [
    "#导入库\n",
    "import pandas as pd\n",
    "import numpy as np\n",
    "import matplotlib.pyplot as plt\n",
    "import seaborn as sns"
   ]
  },
  {
   "cell_type": "code",
   "execution_count": 2,
   "id": "d005f9c4",
   "metadata": {
    "ExecuteTime": {
     "end_time": "2022-05-25T13:03:57.648729Z",
     "start_time": "2022-05-25T13:03:57.447134Z"
    },
    "execution": {
     "iopub.execute_input": "2023-12-08T15:14:09.012932Z",
     "iopub.status.busy": "2023-12-08T15:14:09.012208Z",
     "iopub.status.idle": "2023-12-08T15:14:09.085180Z",
     "shell.execute_reply": "2023-12-08T15:14:09.084114Z"
    },
    "papermill": {
     "duration": 0.088179,
     "end_time": "2023-12-08T15:14:09.088068",
     "exception": false,
     "start_time": "2023-12-08T15:14:08.999889",
     "status": "completed"
    },
    "tags": []
   },
   "outputs": [],
   "source": [
    "#导入数据\n",
    "train = pd.read_csv('/kaggle/input/bike-sharing-demand/train.csv')\n",
    "test = pd.read_csv('/kaggle/input/bike-sharing-demand/test.csv')"
   ]
  },
  {
   "cell_type": "code",
   "execution_count": 3,
   "id": "2b1af4f9",
   "metadata": {
    "ExecuteTime": {
     "end_time": "2022-05-25T13:03:57.704126Z",
     "start_time": "2022-05-25T13:03:57.651837Z"
    },
    "execution": {
     "iopub.execute_input": "2023-12-08T15:14:09.112179Z",
     "iopub.status.busy": "2023-12-08T15:14:09.111733Z",
     "iopub.status.idle": "2023-12-08T15:14:09.143347Z",
     "shell.execute_reply": "2023-12-08T15:14:09.141858Z"
    },
    "papermill": {
     "duration": 0.047275,
     "end_time": "2023-12-08T15:14:09.146461",
     "exception": false,
     "start_time": "2023-12-08T15:14:09.099186",
     "status": "completed"
    },
    "tags": []
   },
   "outputs": [
    {
     "name": "stdout",
     "output_type": "stream",
     "text": [
      "<class 'pandas.core.frame.DataFrame'>\n",
      "RangeIndex: 10886 entries, 0 to 10885\n",
      "Data columns (total 12 columns):\n",
      " #   Column      Non-Null Count  Dtype  \n",
      "---  ------      --------------  -----  \n",
      " 0   datetime    10886 non-null  object \n",
      " 1   season      10886 non-null  int64  \n",
      " 2   holiday     10886 non-null  int64  \n",
      " 3   workingday  10886 non-null  int64  \n",
      " 4   weather     10886 non-null  int64  \n",
      " 5   temp        10886 non-null  float64\n",
      " 6   atemp       10886 non-null  float64\n",
      " 7   humidity    10886 non-null  int64  \n",
      " 8   windspeed   10886 non-null  float64\n",
      " 9   casual      10886 non-null  int64  \n",
      " 10  registered  10886 non-null  int64  \n",
      " 11  count       10886 non-null  int64  \n",
      "dtypes: float64(3), int64(8), object(1)\n",
      "memory usage: 1020.7+ KB\n"
     ]
    }
   ],
   "source": [
    "#查看训练数据\n",
    "train.head()\n",
    "train.info()"
   ]
  },
  {
   "cell_type": "code",
   "execution_count": 4,
   "id": "c159c09a",
   "metadata": {
    "execution": {
     "iopub.execute_input": "2023-12-08T15:14:09.171102Z",
     "iopub.status.busy": "2023-12-08T15:14:09.170643Z",
     "iopub.status.idle": "2023-12-08T15:14:09.185808Z",
     "shell.execute_reply": "2023-12-08T15:14:09.184269Z"
    },
    "papermill": {
     "duration": 0.030394,
     "end_time": "2023-12-08T15:14:09.188364",
     "exception": false,
     "start_time": "2023-12-08T15:14:09.157970",
     "status": "completed"
    },
    "tags": []
   },
   "outputs": [
    {
     "name": "stdout",
     "output_type": "stream",
     "text": [
      "147\n"
     ]
    }
   ],
   "source": [
    "#删除离群点\n",
    "outliers=np.abs(train['count']-train['count'].mean()) > (3*train['count'].std())\n",
    "outliers_num = len(train[outliers])\n",
    "train.drop(index=train[outliers].index)\n",
    "print(outliers_num)"
   ]
  },
  {
   "cell_type": "code",
   "execution_count": 5,
   "id": "07aceacf",
   "metadata": {
    "ExecuteTime": {
     "end_time": "2022-05-25T13:03:58.083139Z",
     "start_time": "2022-05-25T13:03:57.707311Z"
    },
    "execution": {
     "iopub.execute_input": "2023-12-08T15:14:09.213742Z",
     "iopub.status.busy": "2023-12-08T15:14:09.213307Z",
     "iopub.status.idle": "2023-12-08T15:14:09.293655Z",
     "shell.execute_reply": "2023-12-08T15:14:09.292236Z"
    },
    "papermill": {
     "duration": 0.096023,
     "end_time": "2023-12-08T15:14:09.296342",
     "exception": false,
     "start_time": "2023-12-08T15:14:09.200319",
     "status": "completed"
    },
    "tags": []
   },
   "outputs": [
    {
     "name": "stderr",
     "output_type": "stream",
     "text": [
      "/opt/conda/lib/python3.7/site-packages/ipykernel_launcher.py:9: FutureWarning: weekofyear and week have been deprecated, please use DatetimeIndex.isocalendar().week instead, which returns a Series.  To exactly reproduce the behavior of week and weekofyear and return an Index, you may call pd.Int64Index(idx.isocalendar().week)\n",
      "  if __name__ == \"__main__\":\n"
     ]
    }
   ],
   "source": [
    "#对日期数据进行处理\n",
    "from datetime import datetime\n",
    "import calendar\n",
    "def time_process(df):\n",
    "    df['year'] = pd.DatetimeIndex(df['datetime']).year\n",
    "    df['month'] = pd.DatetimeIndex(df['datetime']).month\n",
    "    df['day'] = pd.DatetimeIndex(df['datetime']).day\n",
    "    df['hour'] = pd.DatetimeIndex(df['datetime']).hour\n",
    "    df['week'] = pd.DatetimeIndex(df['datetime']).weekofyear\n",
    "    df['weekday'] = pd.DatetimeIndex(df['datetime']).dayofweek\n",
    "    return df\n",
    "\n",
    "train = time_process(train)\n",
    "test = time_process(test)"
   ]
  },
  {
   "cell_type": "code",
   "execution_count": 6,
   "id": "fbb21438",
   "metadata": {
    "execution": {
     "iopub.execute_input": "2023-12-08T15:14:09.322044Z",
     "iopub.status.busy": "2023-12-08T15:14:09.321585Z",
     "iopub.status.idle": "2023-12-08T15:14:09.359474Z",
     "shell.execute_reply": "2023-12-08T15:14:09.358250Z"
    },
    "papermill": {
     "duration": 0.05393,
     "end_time": "2023-12-08T15:14:09.361987",
     "exception": false,
     "start_time": "2023-12-08T15:14:09.308057",
     "status": "completed"
    },
    "tags": []
   },
   "outputs": [
    {
     "data": {
      "text/html": [
       "<div>\n",
       "<style scoped>\n",
       "    .dataframe tbody tr th:only-of-type {\n",
       "        vertical-align: middle;\n",
       "    }\n",
       "\n",
       "    .dataframe tbody tr th {\n",
       "        vertical-align: top;\n",
       "    }\n",
       "\n",
       "    .dataframe thead th {\n",
       "        text-align: right;\n",
       "    }\n",
       "</style>\n",
       "<table border=\"1\" class=\"dataframe\">\n",
       "  <thead>\n",
       "    <tr style=\"text-align: right;\">\n",
       "      <th></th>\n",
       "      <th>datetime</th>\n",
       "      <th>season</th>\n",
       "      <th>holiday</th>\n",
       "      <th>workingday</th>\n",
       "      <th>weather</th>\n",
       "      <th>temp</th>\n",
       "      <th>atemp</th>\n",
       "      <th>humidity</th>\n",
       "      <th>windspeed</th>\n",
       "      <th>casual</th>\n",
       "      <th>registered</th>\n",
       "      <th>count</th>\n",
       "      <th>year</th>\n",
       "      <th>month</th>\n",
       "      <th>day</th>\n",
       "      <th>hour</th>\n",
       "      <th>week</th>\n",
       "      <th>weekday</th>\n",
       "    </tr>\n",
       "  </thead>\n",
       "  <tbody>\n",
       "    <tr>\n",
       "      <th>0</th>\n",
       "      <td>2011-01-01 00:00:00</td>\n",
       "      <td>1</td>\n",
       "      <td>0</td>\n",
       "      <td>0</td>\n",
       "      <td>1</td>\n",
       "      <td>9.84</td>\n",
       "      <td>14.395</td>\n",
       "      <td>81</td>\n",
       "      <td>0.0000</td>\n",
       "      <td>3</td>\n",
       "      <td>13</td>\n",
       "      <td>16</td>\n",
       "      <td>2011</td>\n",
       "      <td>1</td>\n",
       "      <td>1</td>\n",
       "      <td>0</td>\n",
       "      <td>52</td>\n",
       "      <td>5</td>\n",
       "    </tr>\n",
       "    <tr>\n",
       "      <th>1</th>\n",
       "      <td>2011-01-01 01:00:00</td>\n",
       "      <td>1</td>\n",
       "      <td>0</td>\n",
       "      <td>0</td>\n",
       "      <td>1</td>\n",
       "      <td>9.02</td>\n",
       "      <td>13.635</td>\n",
       "      <td>80</td>\n",
       "      <td>0.0000</td>\n",
       "      <td>8</td>\n",
       "      <td>32</td>\n",
       "      <td>40</td>\n",
       "      <td>2011</td>\n",
       "      <td>1</td>\n",
       "      <td>1</td>\n",
       "      <td>1</td>\n",
       "      <td>52</td>\n",
       "      <td>5</td>\n",
       "    </tr>\n",
       "    <tr>\n",
       "      <th>2</th>\n",
       "      <td>2011-01-01 02:00:00</td>\n",
       "      <td>1</td>\n",
       "      <td>0</td>\n",
       "      <td>0</td>\n",
       "      <td>1</td>\n",
       "      <td>9.02</td>\n",
       "      <td>13.635</td>\n",
       "      <td>80</td>\n",
       "      <td>0.0000</td>\n",
       "      <td>5</td>\n",
       "      <td>27</td>\n",
       "      <td>32</td>\n",
       "      <td>2011</td>\n",
       "      <td>1</td>\n",
       "      <td>1</td>\n",
       "      <td>2</td>\n",
       "      <td>52</td>\n",
       "      <td>5</td>\n",
       "    </tr>\n",
       "    <tr>\n",
       "      <th>3</th>\n",
       "      <td>2011-01-01 03:00:00</td>\n",
       "      <td>1</td>\n",
       "      <td>0</td>\n",
       "      <td>0</td>\n",
       "      <td>1</td>\n",
       "      <td>9.84</td>\n",
       "      <td>14.395</td>\n",
       "      <td>75</td>\n",
       "      <td>0.0000</td>\n",
       "      <td>3</td>\n",
       "      <td>10</td>\n",
       "      <td>13</td>\n",
       "      <td>2011</td>\n",
       "      <td>1</td>\n",
       "      <td>1</td>\n",
       "      <td>3</td>\n",
       "      <td>52</td>\n",
       "      <td>5</td>\n",
       "    </tr>\n",
       "    <tr>\n",
       "      <th>4</th>\n",
       "      <td>2011-01-01 04:00:00</td>\n",
       "      <td>1</td>\n",
       "      <td>0</td>\n",
       "      <td>0</td>\n",
       "      <td>1</td>\n",
       "      <td>9.84</td>\n",
       "      <td>14.395</td>\n",
       "      <td>75</td>\n",
       "      <td>0.0000</td>\n",
       "      <td>0</td>\n",
       "      <td>1</td>\n",
       "      <td>1</td>\n",
       "      <td>2011</td>\n",
       "      <td>1</td>\n",
       "      <td>1</td>\n",
       "      <td>4</td>\n",
       "      <td>52</td>\n",
       "      <td>5</td>\n",
       "    </tr>\n",
       "    <tr>\n",
       "      <th>...</th>\n",
       "      <td>...</td>\n",
       "      <td>...</td>\n",
       "      <td>...</td>\n",
       "      <td>...</td>\n",
       "      <td>...</td>\n",
       "      <td>...</td>\n",
       "      <td>...</td>\n",
       "      <td>...</td>\n",
       "      <td>...</td>\n",
       "      <td>...</td>\n",
       "      <td>...</td>\n",
       "      <td>...</td>\n",
       "      <td>...</td>\n",
       "      <td>...</td>\n",
       "      <td>...</td>\n",
       "      <td>...</td>\n",
       "      <td>...</td>\n",
       "      <td>...</td>\n",
       "    </tr>\n",
       "    <tr>\n",
       "      <th>10881</th>\n",
       "      <td>2012-12-19 19:00:00</td>\n",
       "      <td>4</td>\n",
       "      <td>0</td>\n",
       "      <td>1</td>\n",
       "      <td>1</td>\n",
       "      <td>15.58</td>\n",
       "      <td>19.695</td>\n",
       "      <td>50</td>\n",
       "      <td>26.0027</td>\n",
       "      <td>7</td>\n",
       "      <td>329</td>\n",
       "      <td>336</td>\n",
       "      <td>2012</td>\n",
       "      <td>12</td>\n",
       "      <td>19</td>\n",
       "      <td>19</td>\n",
       "      <td>51</td>\n",
       "      <td>2</td>\n",
       "    </tr>\n",
       "    <tr>\n",
       "      <th>10882</th>\n",
       "      <td>2012-12-19 20:00:00</td>\n",
       "      <td>4</td>\n",
       "      <td>0</td>\n",
       "      <td>1</td>\n",
       "      <td>1</td>\n",
       "      <td>14.76</td>\n",
       "      <td>17.425</td>\n",
       "      <td>57</td>\n",
       "      <td>15.0013</td>\n",
       "      <td>10</td>\n",
       "      <td>231</td>\n",
       "      <td>241</td>\n",
       "      <td>2012</td>\n",
       "      <td>12</td>\n",
       "      <td>19</td>\n",
       "      <td>20</td>\n",
       "      <td>51</td>\n",
       "      <td>2</td>\n",
       "    </tr>\n",
       "    <tr>\n",
       "      <th>10883</th>\n",
       "      <td>2012-12-19 21:00:00</td>\n",
       "      <td>4</td>\n",
       "      <td>0</td>\n",
       "      <td>1</td>\n",
       "      <td>1</td>\n",
       "      <td>13.94</td>\n",
       "      <td>15.910</td>\n",
       "      <td>61</td>\n",
       "      <td>15.0013</td>\n",
       "      <td>4</td>\n",
       "      <td>164</td>\n",
       "      <td>168</td>\n",
       "      <td>2012</td>\n",
       "      <td>12</td>\n",
       "      <td>19</td>\n",
       "      <td>21</td>\n",
       "      <td>51</td>\n",
       "      <td>2</td>\n",
       "    </tr>\n",
       "    <tr>\n",
       "      <th>10884</th>\n",
       "      <td>2012-12-19 22:00:00</td>\n",
       "      <td>4</td>\n",
       "      <td>0</td>\n",
       "      <td>1</td>\n",
       "      <td>1</td>\n",
       "      <td>13.94</td>\n",
       "      <td>17.425</td>\n",
       "      <td>61</td>\n",
       "      <td>6.0032</td>\n",
       "      <td>12</td>\n",
       "      <td>117</td>\n",
       "      <td>129</td>\n",
       "      <td>2012</td>\n",
       "      <td>12</td>\n",
       "      <td>19</td>\n",
       "      <td>22</td>\n",
       "      <td>51</td>\n",
       "      <td>2</td>\n",
       "    </tr>\n",
       "    <tr>\n",
       "      <th>10885</th>\n",
       "      <td>2012-12-19 23:00:00</td>\n",
       "      <td>4</td>\n",
       "      <td>0</td>\n",
       "      <td>1</td>\n",
       "      <td>1</td>\n",
       "      <td>13.12</td>\n",
       "      <td>16.665</td>\n",
       "      <td>66</td>\n",
       "      <td>8.9981</td>\n",
       "      <td>4</td>\n",
       "      <td>84</td>\n",
       "      <td>88</td>\n",
       "      <td>2012</td>\n",
       "      <td>12</td>\n",
       "      <td>19</td>\n",
       "      <td>23</td>\n",
       "      <td>51</td>\n",
       "      <td>2</td>\n",
       "    </tr>\n",
       "  </tbody>\n",
       "</table>\n",
       "<p>10886 rows × 18 columns</p>\n",
       "</div>"
      ],
      "text/plain": [
       "                  datetime  season  holiday  workingday  weather   temp  \\\n",
       "0      2011-01-01 00:00:00       1        0           0        1   9.84   \n",
       "1      2011-01-01 01:00:00       1        0           0        1   9.02   \n",
       "2      2011-01-01 02:00:00       1        0           0        1   9.02   \n",
       "3      2011-01-01 03:00:00       1        0           0        1   9.84   \n",
       "4      2011-01-01 04:00:00       1        0           0        1   9.84   \n",
       "...                    ...     ...      ...         ...      ...    ...   \n",
       "10881  2012-12-19 19:00:00       4        0           1        1  15.58   \n",
       "10882  2012-12-19 20:00:00       4        0           1        1  14.76   \n",
       "10883  2012-12-19 21:00:00       4        0           1        1  13.94   \n",
       "10884  2012-12-19 22:00:00       4        0           1        1  13.94   \n",
       "10885  2012-12-19 23:00:00       4        0           1        1  13.12   \n",
       "\n",
       "        atemp  humidity  windspeed  casual  registered  count  year  month  \\\n",
       "0      14.395        81     0.0000       3          13     16  2011      1   \n",
       "1      13.635        80     0.0000       8          32     40  2011      1   \n",
       "2      13.635        80     0.0000       5          27     32  2011      1   \n",
       "3      14.395        75     0.0000       3          10     13  2011      1   \n",
       "4      14.395        75     0.0000       0           1      1  2011      1   \n",
       "...       ...       ...        ...     ...         ...    ...   ...    ...   \n",
       "10881  19.695        50    26.0027       7         329    336  2012     12   \n",
       "10882  17.425        57    15.0013      10         231    241  2012     12   \n",
       "10883  15.910        61    15.0013       4         164    168  2012     12   \n",
       "10884  17.425        61     6.0032      12         117    129  2012     12   \n",
       "10885  16.665        66     8.9981       4          84     88  2012     12   \n",
       "\n",
       "       day  hour  week  weekday  \n",
       "0        1     0    52        5  \n",
       "1        1     1    52        5  \n",
       "2        1     2    52        5  \n",
       "3        1     3    52        5  \n",
       "4        1     4    52        5  \n",
       "...    ...   ...   ...      ...  \n",
       "10881   19    19    51        2  \n",
       "10882   19    20    51        2  \n",
       "10883   19    21    51        2  \n",
       "10884   19    22    51        2  \n",
       "10885   19    23    51        2  \n",
       "\n",
       "[10886 rows x 18 columns]"
      ]
     },
     "execution_count": 6,
     "metadata": {},
     "output_type": "execute_result"
    }
   ],
   "source": [
    "#查看训练数据内容\n",
    "train"
   ]
  },
  {
   "cell_type": "code",
   "execution_count": 7,
   "id": "6cbde958",
   "metadata": {
    "ExecuteTime": {
     "end_time": "2022-05-25T13:04:14.716136Z",
     "start_time": "2022-05-25T13:03:58.086361Z"
    },
    "execution": {
     "iopub.execute_input": "2023-12-08T15:14:09.387593Z",
     "iopub.status.busy": "2023-12-08T15:14:09.387158Z",
     "iopub.status.idle": "2023-12-08T15:14:26.555174Z",
     "shell.execute_reply": "2023-12-08T15:14:26.554050Z"
    },
    "papermill": {
     "duration": 17.183844,
     "end_time": "2023-12-08T15:14:26.557635",
     "exception": false,
     "start_time": "2023-12-08T15:14:09.373791",
     "status": "completed"
    },
    "tags": []
   },
   "outputs": [
    {
     "name": "stderr",
     "output_type": "stream",
     "text": [
      "/opt/conda/lib/python3.7/site-packages/ipykernel_launcher.py:11: SettingWithCopyWarning: \n",
      "A value is trying to be set on a copy of a slice from a DataFrame.\n",
      "Try using .loc[row_indexer,col_indexer] = value instead\n",
      "\n",
      "See the caveats in the documentation: https://pandas.pydata.org/pandas-docs/stable/user_guide/indexing.html#returning-a-view-versus-a-copy\n",
      "  # This is added back by InteractiveShellApp.init_path()\n",
      "/opt/conda/lib/python3.7/site-packages/ipykernel_launcher.py:11: SettingWithCopyWarning: \n",
      "A value is trying to be set on a copy of a slice from a DataFrame.\n",
      "Try using .loc[row_indexer,col_indexer] = value instead\n",
      "\n",
      "See the caveats in the documentation: https://pandas.pydata.org/pandas-docs/stable/user_guide/indexing.html#returning-a-view-versus-a-copy\n",
      "  # This is added back by InteractiveShellApp.init_path()\n"
     ]
    }
   ],
   "source": [
    "#使用随机森林分类器（Random Forest Classifier）来填充数据集中风速为零的记录\n",
    "from sklearn.ensemble import RandomForestClassifier\n",
    "def wind_0_fill(df):\n",
    "    wind_0 = df[df['windspeed']==0]\n",
    "    wind_not0 = df[df['windspeed']!=0]\n",
    "    y_label = wind_not0['windspeed']\n",
    "    clf = RandomForestClassifier(n_estimators=1000,max_depth=10,random_state=0)\n",
    "    windcolunms = ['season', 'weather', 'temp', 'atemp', 'humidity', 'hour', 'month']\n",
    "    clf.fit(wind_not0[windcolunms], y_label.astype('int'))\n",
    "    pred_y = clf.predict(wind_0[windcolunms])\n",
    "    wind_0['windspeed'] = pred_y\n",
    "    df_rfw = wind_not0.append(wind_0)\n",
    "    df_rfw.reset_index(inplace=True)\n",
    "    return df_rfw\n",
    "\n",
    "train = wind_0_fill(train)\n",
    "test = wind_0_fill(test)"
   ]
  },
  {
   "cell_type": "code",
   "execution_count": 8,
   "id": "0a942e6b",
   "metadata": {
    "execution": {
     "iopub.execute_input": "2023-12-08T15:14:26.583476Z",
     "iopub.status.busy": "2023-12-08T15:14:26.582920Z",
     "iopub.status.idle": "2023-12-08T15:14:26.639584Z",
     "shell.execute_reply": "2023-12-08T15:14:26.638369Z"
    },
    "papermill": {
     "duration": 0.072477,
     "end_time": "2023-12-08T15:14:26.642142",
     "exception": false,
     "start_time": "2023-12-08T15:14:26.569665",
     "status": "completed"
    },
    "tags": []
   },
   "outputs": [
    {
     "name": "stderr",
     "output_type": "stream",
     "text": [
      "/opt/conda/lib/python3.7/site-packages/ipykernel_launcher.py:10: FutureWarning: The pandas.datetime class is deprecated and will be removed from pandas in a future version. Import from datetime module instead.\n",
      "  # Remove the CWD from sys.path while we load stuff.\n",
      "/opt/conda/lib/python3.7/site-packages/ipykernel_launcher.py:11: FutureWarning: The pandas.datetime class is deprecated and will be removed from pandas in a future version. Import from datetime module instead.\n",
      "  # This is added back by InteractiveShellApp.init_path()\n",
      "/opt/conda/lib/python3.7/site-packages/ipykernel_launcher.py:12: FutureWarning: The pandas.datetime class is deprecated and will be removed from pandas in a future version. Import from datetime module instead.\n",
      "  if sys.path[0] == \"\":\n",
      "/opt/conda/lib/python3.7/site-packages/ipykernel_launcher.py:13: FutureWarning: The pandas.datetime class is deprecated and will be removed from pandas in a future version. Import from datetime module instead.\n",
      "  del sys.path[0]\n",
      "/opt/conda/lib/python3.7/site-packages/ipykernel_launcher.py:14: FutureWarning: The pandas.datetime class is deprecated and will be removed from pandas in a future version. Import from datetime module instead.\n",
      "  \n",
      "/opt/conda/lib/python3.7/site-packages/ipykernel_launcher.py:15: FutureWarning: The pandas.datetime class is deprecated and will be removed from pandas in a future version. Import from datetime module instead.\n",
      "  from ipykernel import kernelapp as app\n",
      "/opt/conda/lib/python3.7/site-packages/ipykernel_launcher.py:16: FutureWarning: The pandas.datetime class is deprecated and will be removed from pandas in a future version. Import from datetime module instead.\n",
      "  \n",
      "/opt/conda/lib/python3.7/site-packages/ipykernel_launcher.py:17: FutureWarning: The pandas.datetime class is deprecated and will be removed from pandas in a future version. Import from datetime module instead.\n",
      "  app.launch_new_instance()\n",
      "/opt/conda/lib/python3.7/site-packages/ipykernel_launcher.py:18: FutureWarning: The pandas.datetime class is deprecated and will be removed from pandas in a future version. Import from datetime module instead.\n",
      "/opt/conda/lib/python3.7/site-packages/ipykernel_launcher.py:19: FutureWarning: The pandas.datetime class is deprecated and will be removed from pandas in a future version. Import from datetime module instead.\n",
      "/opt/conda/lib/python3.7/site-packages/ipykernel_launcher.py:20: FutureWarning: The pandas.datetime class is deprecated and will be removed from pandas in a future version. Import from datetime module instead.\n",
      "/opt/conda/lib/python3.7/site-packages/ipykernel_launcher.py:21: FutureWarning: The pandas.datetime class is deprecated and will be removed from pandas in a future version. Import from datetime module instead.\n",
      "/opt/conda/lib/python3.7/site-packages/ipykernel_launcher.py:22: FutureWarning: The pandas.datetime class is deprecated and will be removed from pandas in a future version. Import from datetime module instead.\n",
      "/opt/conda/lib/python3.7/site-packages/ipykernel_launcher.py:23: FutureWarning: The pandas.datetime class is deprecated and will be removed from pandas in a future version. Import from datetime module instead.\n",
      "/opt/conda/lib/python3.7/site-packages/ipykernel_launcher.py:24: FutureWarning: The pandas.datetime class is deprecated and will be removed from pandas in a future version. Import from datetime module instead.\n",
      "/opt/conda/lib/python3.7/site-packages/ipykernel_launcher.py:26: FutureWarning: The pandas.datetime class is deprecated and will be removed from pandas in a future version. Import from datetime module instead.\n",
      "/opt/conda/lib/python3.7/site-packages/ipykernel_launcher.py:27: FutureWarning: The pandas.datetime class is deprecated and will be removed from pandas in a future version. Import from datetime module instead.\n"
     ]
    }
   ],
   "source": [
    "dt = pd.DatetimeIndex(train['datetime'])\n",
    "train.set_index(dt, inplace=True)\n",
    "dtt = pd.DatetimeIndex(test['datetime'])\n",
    "test.set_index(dtt, inplace=True)\n",
    "def get_day(day_start):\n",
    "    day_end = day_start + pd.offsets.DateOffset(hours=23)\n",
    "    return pd.date_range(day_start, day_end, freq=\"H\")\n",
    "\n",
    "\n",
    "train.loc[get_day(pd.datetime(2011, 4, 15)), \"workingday\"] = 1\n",
    "train.loc[get_day(pd.datetime(2012, 4, 16)), \"workingday\"] = 1\n",
    "test.loc[get_day(pd.datetime(2011, 11, 25)), \"workingday\"] = 0\n",
    "test.loc[get_day(pd.datetime(2012, 11, 23)), \"workingday\"] = 0\n",
    "test.loc[get_day(pd.datetime(2011, 12, 24)), \"workingday\"] = 0\n",
    "test.loc[get_day(pd.datetime(2011, 12, 31)), \"workingday\"] = 0\n",
    "test.loc[get_day(pd.datetime(2012, 12, 26)), \"workingday\"] = 0\n",
    "test.loc[get_day(pd.datetime(2012, 12, 31)), \"workingday\"] = 0\n",
    "train.loc[get_day(pd.datetime(2011, 4, 15)), \"holiday\"] = 0\n",
    "train.loc[get_day(pd.datetime(2012, 4, 16)), \"holiday\"] = 0\n",
    "test.loc[get_day(pd.datetime(2011, 11, 25)), \"holiday\"] = 1\n",
    "test.loc[get_day(pd.datetime(2012, 11, 23)), \"holiday\"] = 1\n",
    "test.loc[get_day(pd.datetime(2011, 12, 24)), \"holiday\"] = 1\n",
    "test.loc[get_day(pd.datetime(2011, 12, 31)), \"holiday\"] = 1\n",
    "test.loc[get_day(pd.datetime(2012, 12, 31)), \"holiday\"] = 1\n",
    "\n",
    "test.loc[get_day(pd.datetime(2012, 5, 21)), \"holiday\"] = 1\n",
    "train.loc[get_day(pd.datetime(2012, 6, 1)), \"holiday\"] = 1"
   ]
  },
  {
   "cell_type": "code",
   "execution_count": 9,
   "id": "834a22fc",
   "metadata": {
    "ExecuteTime": {
     "end_time": "2022-05-25T13:04:14.745416Z",
     "start_time": "2022-05-25T13:04:14.720125Z"
    },
    "execution": {
     "iopub.execute_input": "2023-12-08T15:14:26.669531Z",
     "iopub.status.busy": "2023-12-08T15:14:26.669061Z",
     "iopub.status.idle": "2023-12-08T15:14:26.691619Z",
     "shell.execute_reply": "2023-12-08T15:14:26.690370Z"
    },
    "papermill": {
     "duration": 0.03965,
     "end_time": "2023-12-08T15:14:26.694469",
     "exception": false,
     "start_time": "2023-12-08T15:14:26.654819",
     "status": "completed"
    },
    "tags": []
   },
   "outputs": [],
   "source": [
    "#重命名季节、天气，用独热编码，便于可视化\n",
    "def name_process(df):\n",
    "    df['season2'] = df['season']\n",
    "    df['weather2'] = df['weather']\n",
    "    df['season2'] = df['season2'].map({1:'Spring',2:'Summer',3:'Fall',4:'Winter'})\n",
    "    df['weather2'] = df['weather2'].map({1:'Clear',2:'Mist',3:'Light_Snow',4:'Heavy_Rain'})\n",
    "    return df\n",
    "\n",
    "train = name_process(train)\n",
    "test = name_process(test)"
   ]
  },
  {
   "cell_type": "code",
   "execution_count": 10,
   "id": "41a6fddc",
   "metadata": {
    "execution": {
     "iopub.execute_input": "2023-12-08T15:14:26.721495Z",
     "iopub.status.busy": "2023-12-08T15:14:26.721032Z",
     "iopub.status.idle": "2023-12-08T15:14:27.481434Z",
     "shell.execute_reply": "2023-12-08T15:14:27.480277Z"
    },
    "papermill": {
     "duration": 0.777704,
     "end_time": "2023-12-08T15:14:27.484243",
     "exception": false,
     "start_time": "2023-12-08T15:14:26.706539",
     "status": "completed"
    },
    "tags": []
   },
   "outputs": [
    {
     "name": "stderr",
     "output_type": "stream",
     "text": [
      "/opt/conda/lib/python3.7/site-packages/ipykernel_launcher.py:2: DeprecationWarning: In future, it will be an error for 'np.bool_' scalars to be interpreted as an index\n",
      "  \n",
      "/opt/conda/lib/python3.7/site-packages/ipykernel_launcher.py:3: DeprecationWarning: In future, it will be an error for 'np.bool_' scalars to be interpreted as an index\n",
      "  This is separate from the ipykernel package so we can avoid doing imports until\n"
     ]
    }
   ],
   "source": [
    "#根据数据，解译出使用量高峰时段\n",
    "train['peak'] = train[['hour', 'workingday']].apply(lambda x: (0, 1)[(x['workingday'] == 1 and  ( x['hour'] == 8 or 17 <= x['hour'] <= 18 or 12 <= x['hour'] <= 12)) or (x['workingday'] == 0 and  10 <= x['hour'] <= 19)], axis = 1)\n",
    "test['peak'] = test[['hour', 'workingday']].apply(lambda x: (0, 1)[(x['workingday'] == 1 and  ( x['hour'] == 8 or 17 <= x['hour'] <= 18 or 12 <= x['hour'] <= 12)) or (x['workingday'] == 0 and  10 <= x['hour'] <= 19)], axis = 1)"
   ]
  },
  {
   "cell_type": "code",
   "execution_count": 11,
   "id": "e2e73872",
   "metadata": {
    "ExecuteTime": {
     "end_time": "2022-05-25T13:04:15.844843Z",
     "start_time": "2022-05-25T13:04:15.586903Z"
    },
    "execution": {
     "iopub.execute_input": "2023-12-08T15:14:27.511687Z",
     "iopub.status.busy": "2023-12-08T15:14:27.511222Z",
     "iopub.status.idle": "2023-12-08T15:14:27.949211Z",
     "shell.execute_reply": "2023-12-08T15:14:27.948088Z"
    },
    "papermill": {
     "duration": 0.45539,
     "end_time": "2023-12-08T15:14:27.952268",
     "exception": false,
     "start_time": "2023-12-08T15:14:27.496878",
     "status": "completed"
    },
    "tags": []
   },
   "outputs": [
    {
     "data": {
      "text/plain": [
       "<seaborn.axisgrid.FacetGrid at 0x7b61b3a4aed0>"
      ]
     },
     "execution_count": 11,
     "metadata": {},
     "output_type": "execute_result"
    },
    {
     "data": {
      "image/png": "[encoded data removed]",
      "text/plain": [
       "<Figure size 360x360 with 1 Axes>"
      ]
     },
     "metadata": {
      "needs_background": "light"
     },
     "output_type": "display_data"
    }
   ],
   "source": [
    "#不同月份--使用量\n",
    "sns.catplot(x='month',y='count',data=train)"
   ]
  },
  {
   "cell_type": "code",
   "execution_count": 12,
   "id": "00c622ed",
   "metadata": {
    "ExecuteTime": {
     "end_time": "2022-05-25T13:04:19.707024Z",
     "start_time": "2022-05-25T13:04:16.629017Z"
    },
    "execution": {
     "iopub.execute_input": "2023-12-08T15:14:27.982964Z",
     "iopub.status.busy": "2023-12-08T15:14:27.981846Z",
     "iopub.status.idle": "2023-12-08T15:14:32.091510Z",
     "shell.execute_reply": "2023-12-08T15:14:32.090226Z"
    },
    "papermill": {
     "duration": 4.128038,
     "end_time": "2023-12-08T15:14:32.094310",
     "exception": false,
     "start_time": "2023-12-08T15:14:27.966272",
     "status": "completed"
    },
    "tags": []
   },
   "outputs": [
    {
     "data": {
      "text/plain": [
       "<AxesSubplot:xlabel='hour', ylabel='count'>"
      ]
     },
     "execution_count": 12,
     "metadata": {},
     "output_type": "execute_result"
    },
    {
     "data": {
      "image/png": "[encoded data removed]",
      "text/plain": [
       "<Figure size 432x288 with 1 Axes>"
      ]
     },
     "metadata": {
      "needs_background": "light"
     },
     "output_type": "display_data"
    }
   ],
   "source": [
    "#季节--使用量\n",
    "sns.pointplot(x='hour',y='count',hue='season',join=True,data=train)"
   ]
  },
  {
   "cell_type": "code",
   "execution_count": 13,
   "id": "d860880e",
   "metadata": {
    "ExecuteTime": {
     "end_time": "2022-05-25T13:04:34.868518Z",
     "start_time": "2022-05-25T13:04:32.041975Z"
    },
    "execution": {
     "iopub.execute_input": "2023-12-08T15:14:32.127147Z",
     "iopub.status.busy": "2023-12-08T15:14:32.126676Z",
     "iopub.status.idle": "2023-12-08T15:14:33.236034Z",
     "shell.execute_reply": "2023-12-08T15:14:33.235070Z"
    },
    "papermill": {
     "duration": 1.129226,
     "end_time": "2023-12-08T15:14:33.238876",
     "exception": false,
     "start_time": "2023-12-08T15:14:32.109650",
     "status": "completed"
    },
    "tags": []
   },
   "outputs": [
    {
     "data": {
      "image/png": "[encoded data removed]",
      "text/plain": [
       "<Figure size 864x288 with 1 Axes>"
      ]
     },
     "metadata": {
      "needs_background": "light"
     },
     "output_type": "display_data"
    }
   ],
   "source": [
    "#湿度--使用量\n",
    "fig, ax = plt.subplots(figsize=(12, 4))\n",
    "sns.regplot(x='humidity', y='count', data=train, color='red', scatter_kws={'color': 'green'})\n",
    "plt.show()"
   ]
  },
  {
   "cell_type": "code",
   "execution_count": 14,
   "id": "a5b63e57",
   "metadata": {
    "ExecuteTime": {
     "end_time": "2022-05-25T13:04:37.776015Z",
     "start_time": "2022-05-25T13:04:34.871944Z"
    },
    "execution": {
     "iopub.execute_input": "2023-12-08T15:14:33.274674Z",
     "iopub.status.busy": "2023-12-08T15:14:33.273747Z",
     "iopub.status.idle": "2023-12-08T15:14:34.358184Z",
     "shell.execute_reply": "2023-12-08T15:14:34.357028Z"
    },
    "papermill": {
     "duration": 1.105416,
     "end_time": "2023-12-08T15:14:34.360793",
     "exception": false,
     "start_time": "2023-12-08T15:14:33.255377",
     "status": "completed"
    },
    "tags": []
   },
   "outputs": [
    {
     "data": {
      "text/plain": [
       "<AxesSubplot:xlabel='windspeed', ylabel='count'>"
      ]
     },
     "execution_count": 14,
     "metadata": {},
     "output_type": "execute_result"
    },
    {
     "data": {
      "image/png": "[encoded data removed]",
      "text/plain": [
       "<Figure size 864x288 with 1 Axes>"
      ]
     },
     "metadata": {
      "needs_background": "light"
     },
     "output_type": "display_data"
    }
   ],
   "source": [
    "#风速--使用量\n",
    "fig = plt.subplots(figsize=(12,4))\n",
    "sns.regplot(x='windspeed',y='count',data=train, color='red', scatter_kws={'color': 'green'})"
   ]
  },
  {
   "cell_type": "code",
   "execution_count": 15,
   "id": "78b297f6",
   "metadata": {
    "ExecuteTime": {
     "end_time": "2022-05-25T13:04:38.093934Z",
     "start_time": "2022-05-25T13:04:37.800695Z"
    },
    "execution": {
     "iopub.execute_input": "2023-12-08T15:14:34.396209Z",
     "iopub.status.busy": "2023-12-08T15:14:34.395413Z",
     "iopub.status.idle": "2023-12-08T15:14:34.794506Z",
     "shell.execute_reply": "2023-12-08T15:14:34.793342Z"
    },
    "papermill": {
     "duration": 0.419767,
     "end_time": "2023-12-08T15:14:34.797113",
     "exception": false,
     "start_time": "2023-12-08T15:14:34.377346",
     "status": "completed"
    },
    "tags": []
   },
   "outputs": [
    {
     "data": {
      "image/png": "[encoded data removed]",
      "text/plain": [
       "<Figure size 1080x576 with 2 Axes>"
      ]
     },
     "metadata": {
      "needs_background": "light"
     },
     "output_type": "display_data"
    }
   ],
   "source": [
    "#连续变量的相关性分析\n",
    "corr = train[['temp', 'atemp', 'casual', 'registered', 'humidity', 'windspeed', 'count']].corr()\n",
    "mask = np.array(corr)\n",
    "mask[np.tril_indices_from(mask)] = False\n",
    "\n",
    "fig, ax = plt.subplots()\n",
    "fig.set_size_inches(15, 8)\n",
    "sns.heatmap(corr, mask=mask, vmax=.8, square=True, annot=True, cmap='Blues')\n",
    "plt.show()"
   ]
  },
  {
   "cell_type": "code",
   "execution_count": 16,
   "id": "eddb2d41",
   "metadata": {
    "ExecuteTime": {
     "end_time": "2022-05-25T13:04:38.953415Z",
     "start_time": "2022-05-25T13:04:38.578988Z"
    },
    "execution": {
     "iopub.execute_input": "2023-12-08T15:14:34.832923Z",
     "iopub.status.busy": "2023-12-08T15:14:34.832468Z",
     "iopub.status.idle": "2023-12-08T15:14:35.334192Z",
     "shell.execute_reply": "2023-12-08T15:14:35.332885Z"
    },
    "papermill": {
     "duration": 0.522667,
     "end_time": "2023-12-08T15:14:35.336866",
     "exception": false,
     "start_time": "2023-12-08T15:14:34.814199",
     "status": "completed"
    },
    "tags": []
   },
   "outputs": [
    {
     "data": {
      "text/plain": [
       "<AxesSubplot:ylabel='Density'>"
      ]
     },
     "execution_count": 16,
     "metadata": {},
     "output_type": "execute_result"
    },
    {
     "data": {
      "image/png": "[encoded data removed]",
      "text/plain": [
       "<Figure size 432x288 with 1 Axes>"
      ]
     },
     "metadata": {
      "needs_background": "light"
     },
     "output_type": "display_data"
    }
   ],
   "source": [
    "#进行log1p变换\n",
    "import math\n",
    "train['count_log']=train['count'].apply(lambda x: math.log(x+1))\n",
    "train['count_log'].plot(kind='kde')"
   ]
  },
  {
   "cell_type": "code",
   "execution_count": 17,
   "id": "c1ac6676",
   "metadata": {
    "ExecuteTime": {
     "end_time": "2022-05-25T13:04:39.109018Z",
     "start_time": "2022-05-25T13:04:38.985048Z"
    },
    "execution": {
     "iopub.execute_input": "2023-12-08T15:14:35.373704Z",
     "iopub.status.busy": "2023-12-08T15:14:35.372851Z",
     "iopub.status.idle": "2023-12-08T15:14:35.409634Z",
     "shell.execute_reply": "2023-12-08T15:14:35.408361Z"
    },
    "papermill": {
     "duration": 0.058073,
     "end_time": "2023-12-08T15:14:35.412295",
     "exception": false,
     "start_time": "2023-12-08T15:14:35.354222",
     "status": "completed"
    },
    "tags": []
   },
   "outputs": [],
   "source": [
    "train=pd.get_dummies(train,columns=['season2'])\n",
    "train=pd.get_dummies(train,columns=['weather2'])\n",
    "\n",
    "test=pd.get_dummies(test,columns=['season2'])\n",
    "test=pd.get_dummies(test,columns=['weather2'])"
   ]
  },
  {
   "cell_type": "code",
   "execution_count": 18,
   "id": "83985365",
   "metadata": {
    "ExecuteTime": {
     "end_time": "2022-05-25T13:04:39.427637Z",
     "start_time": "2022-05-25T13:04:39.409742Z"
    },
    "execution": {
     "iopub.execute_input": "2023-12-08T15:14:35.449589Z",
     "iopub.status.busy": "2023-12-08T15:14:35.449136Z",
     "iopub.status.idle": "2023-12-08T15:14:35.458104Z",
     "shell.execute_reply": "2023-12-08T15:14:35.457189Z"
    },
    "papermill": {
     "duration": 0.030397,
     "end_time": "2023-12-08T15:14:35.460349",
     "exception": false,
     "start_time": "2023-12-08T15:14:35.429952",
     "status": "completed"
    },
    "tags": []
   },
   "outputs": [],
   "source": [
    "All_feature_columns = ['season','weather','temp','atemp','humidity','windspeed',\n",
    "                        'year','holiday','workingday','month','day','hour','week','weekday','peak',\n",
    "                       'season2_Fall','season2_Spring','season2_Summer','season2_Winter',\n",
    "                       'weather2_Clear','weather2_Heavy_Rain','weather2_Light_Snow','weather2_Mist']\n",
    "\n",
    "RFR_feature_columns = ['weather','temp','atemp','windspeed',\n",
    "                       'workingday','season','holiday',\n",
    "                       'hour','weekday','week','peak',\n",
    "                       'season2_Fall','season2_Spring','season2_Summer','season2_Winter',\n",
    "                      'weather2_Clear','weather2_Heavy_Rain','weather2_Light_Snow','weather2_Mist']\n",
    "\n",
    "GBR_feature_columns =['weather','temp','atemp','humidity','windspeed',\n",
    "                       'holiday','workingday','season',\n",
    "                       'hour','weekday','year',\n",
    "                      'season2_Fall','season2_Spring','season2_Summer','season2_Winter',\n",
    "                       'weather2_Clear','weather2_Heavy_Rain','weather2_Light_Snow','weather2_Mist']"
   ]
  },
  {
   "cell_type": "code",
   "execution_count": 19,
   "id": "b139cdee",
   "metadata": {
    "ExecuteTime": {
     "end_time": "2022-05-25T13:04:39.519326Z",
     "start_time": "2022-05-25T13:04:39.429632Z"
    },
    "execution": {
     "iopub.execute_input": "2023-12-08T15:14:35.498407Z",
     "iopub.status.busy": "2023-12-08T15:14:35.497778Z",
     "iopub.status.idle": "2023-12-08T15:14:35.599703Z",
     "shell.execute_reply": "2023-12-08T15:14:35.598444Z"
    },
    "papermill": {
     "duration": 0.124918,
     "end_time": "2023-12-08T15:14:35.602830",
     "exception": false,
     "start_time": "2023-12-08T15:14:35.477912",
     "status": "completed"
    },
    "tags": []
   },
   "outputs": [],
   "source": [
    "#拆分出训练数据\n",
    "RFR_X_train=train[RFR_feature_columns].values\n",
    "RFR_X_test=test[RFR_feature_columns].values\n",
    "\n",
    "GBR_X_train=train[GBR_feature_columns].values\n",
    "GBR_X_test=test[GBR_feature_columns].values\n",
    "\n",
    "y_casual=train['casual'].apply(lambda x: np.log1p(x)).values\n",
    "y_registered=train['registered'].apply(lambda x: np.log1p(x)).values\n",
    "y_count=train['count'].apply(lambda x: np.log1p(x)).values\n",
    "\n",
    "X_date=test['datetime'].values"
   ]
  },
  {
   "cell_type": "code",
   "execution_count": 20,
   "id": "85fd7099",
   "metadata": {
    "ExecuteTime": {
     "end_time": "2022-05-25T13:04:39.581183Z",
     "start_time": "2022-05-25T13:04:39.568218Z"
    },
    "execution": {
     "iopub.execute_input": "2023-12-08T15:14:35.640608Z",
     "iopub.status.busy": "2023-12-08T15:14:35.640151Z",
     "iopub.status.idle": "2023-12-08T15:14:35.645931Z",
     "shell.execute_reply": "2023-12-08T15:14:35.645108Z"
    },
    "papermill": {
     "duration": 0.026976,
     "end_time": "2023-12-08T15:14:35.648101",
     "exception": false,
     "start_time": "2023-12-08T15:14:35.621125",
     "status": "completed"
    },
    "tags": []
   },
   "outputs": [],
   "source": [
    "def rmsle(y_real, y_pre):    \n",
    "    log1 = np.log(y_real+1)\n",
    "    log2 = np.log(y_pre+1)    \n",
    "    calc = (log1 - log2) ** 2\n",
    "    return np.sqrt(np.mean(calc))"
   ]
  },
  {
   "cell_type": "code",
   "execution_count": 21,
   "id": "cfe50e45",
   "metadata": {
    "execution": {
     "iopub.execute_input": "2023-12-08T15:14:35.685561Z",
     "iopub.status.busy": "2023-12-08T15:14:35.685096Z",
     "iopub.status.idle": "2023-12-08T15:15:28.399297Z",
     "shell.execute_reply": "2023-12-08T15:15:28.398076Z"
    },
    "papermill": {
     "duration": 52.736357,
     "end_time": "2023-12-08T15:15:28.402048",
     "exception": false,
     "start_time": "2023-12-08T15:14:35.665691",
     "status": "completed"
    },
    "tags": []
   },
   "outputs": [
    {
     "data": {
      "text/html": [
       "<style type='text/css'>\n",
       ".datatable table.frame { margin-bottom: 0; }\n",
       ".datatable table.frame thead { border-bottom: none; }\n",
       ".datatable table.frame tr.coltypes td {  color: #FFFFFF;  line-height: 6px;  padding: 0 0.5em;}\n",
       ".datatable .bool    { background: #DDDD99; }\n",
       ".datatable .object  { background: #565656; }\n",
       ".datatable .int     { background: #5D9E5D; }\n",
       ".datatable .float   { background: #4040CC; }\n",
       ".datatable .str     { background: #CC4040; }\n",
       ".datatable .time    { background: #40CC40; }\n",
       ".datatable .row_index {  background: var(--jp-border-color3);  border-right: 1px solid var(--jp-border-color0);  color: var(--jp-ui-font-color3);  font-size: 9px;}\n",
       ".datatable .frame tbody td { text-align: left; }\n",
       ".datatable .frame tr.coltypes .row_index {  background: var(--jp-border-color0);}\n",
       ".datatable th:nth-child(2) { padding-left: 12px; }\n",
       ".datatable .hellipsis {  color: var(--jp-cell-editor-border-color);}\n",
       ".datatable .vellipsis {  background: var(--jp-layout-color0);  color: var(--jp-cell-editor-border-color);}\n",
       ".datatable .na {  color: var(--jp-cell-editor-border-color);  font-size: 80%;}\n",
       ".datatable .sp {  opacity: 0.25;}\n",
       ".datatable .footer { font-size: 9px; }\n",
       ".datatable .frame_dimensions {  background: var(--jp-border-color3);  border-top: 1px solid var(--jp-border-color0);  color: var(--jp-ui-font-color3);  display: inline-block;  opacity: 0.6;  padding: 1px 10px 1px 5px;}\n",
       ".datatable .frame thead tr.colnames {  background-image: url('data:image/png;base64,iVBORw0KGgoAAAANSUhEUgAAABwAAAA4CAYAAADuMJi0AAAGR0lEQVR42rVZ21IbRxBtCbQrkIR2dQVjsLmDLBsET3nTQ8ouYRkQVf6e/E9+Im958qMfkgoXAaKSSj6C9Jnd2R2NeiRSRaZqitVOT5+Z6dNnWoKGlN94JFp8Ipofkb/7SOXjGyp8wF+z35K3f0uUp/GW4XfLQ8v2gefj3ZCCzojoNfue+43o1Q3l3xB/yA3JO7jnF2pCLnI+pNyx/qw7L+SQ7T2N9p2f8c60QcfcK6KGXsAd+ZvA4LlZYuSSAoOhMs5vwJkEGDlbPMaJoA+FcQ0IH38QLWkbAFLkOOhoMF5tU6/eBRhNjro0ZgKiPRAt3FLhCO/vqdgmNTm32LkmKpvBmQY4q5uAaAgbwDBG2BVv3bfI8KKAMWj2kfw9+pkZREIbEql4ST1x7hgHIANkbJ//MF8mAH/ilTCJ2tIi4ASr1IC3VNqXHKOxjy34mgoImnOQtx1g81fkqTiMOBVGcTogNhiT5iBHET8R8C+iApJUmgim3SQAXhsLQz7ee2G8gOAQNtJckBEplADiAxtX+G9NmhDl0qJKnTvyWlAMPYZnvIviGXRg6/Dh824DBXhP/tbfREXJEIvQ+aaPGjG7pvw6r3xdx+9hqb4dgZaP2XmdHO2K/B0c1+oUph6k8kShBryl/Ft0DYgjTlOieOACHFFpVyUl72T9V3cM1jUoYvxIC2vpCSys/ck70mDYuYvdvKjlMdKAUThneWVU1aAsyjv6PURDiwNsHGBZzY+JtAAgE2TFxdRHJdyIp/f+zqu09M5cDP2F08Ukkpj4YNSdX950HY2pNCCUK/Hhx5ZMBfjNSEzdsIihVzzAMdn9dz4eDYhnyQb9SSCiAryiJcQk82LiTbJ4x2FZJaUenpKnzP95WyDf4Y+QN9EFHHSeDLGdBjjKNQ5vKHf4XMA7KrY0y0GEObBOO/8e1ywuQExOHXktuQyJALEBpcEqhwtHqgiDuCK5b6i0p2MQpcckIIoh+6hYgTZtO8xlMi6O4tKCF/kOGHEg/W0UUpHW0ZoGNZ1ExZWcn7EErgwt4uj50E/sFBjXXIayWvh7WryjasxarZKssXon0zxvvkc32Q0bqbBCuZiKt9dWFysfQefeL29JYFaeztX6tePaZdz5mYx8+6Zq3Mk0wXECQxlhdzgS2wjBHju3j1RIgKyOMdNUE8X0+RAdbSapS11MRCv1SzUXmO6wGZe2SQYrv2MvCSWEv2VODE6DN7bz8ufypgQKW7uQskFTQHULLKyaEyrnlZbgOGLrV5qrn9U79jjm2HJmgkaVN98AfBub91lGPLZBqdroN5LYgjSu4zYZDDHXZOIPC691HqrWI1900I8qLzgKP4ft8DxEWigprPfrO+KcXno9gZz4jjGewWdUcpGCj0qVFuGPYbl2VturndZ2qRvlL8acDO6lF/DY/VjsFesiUK+ypJ+r/ep+cJkSQxEK4PG4WozgA75TYrDDqStE69K8/mzGEM+JXTeqvmedEElMmwCMm2SLd6bNNF9su02zEtoW6nAQtpMj5Gd7fKa//wqonF7UdtHFsVn+6hf1o7AfriPH7M6EeIUEF5zKVxXbYo7kS/OEtOqDYZKPoBsETIixn0uYrasThmzDkhdKPkz2EnaX0HdQbIgr59vAdGYDqjHrxkjS7WOxkTD8sqEqhiwcJETgBYigrBqF08KyDaje9SZ/I1A7MzaTzMGDEulPtZUkuKcyIRAjxEJPVrnVlb/9wkfij31D/pQt1IN+iL8bGJcstBIO7Y5VI/cwDqURbXhMuJxBqD0KLoK3esWFs0Jz5i5ZvJUAfFJMFb9XmGIOnzGpijpcWYCaMqXSQWp8EnCABepQ0Elyi4wfKfsw78ikIqif1pe1AGPlLmojl1SKxHHXp1L+Ut7AmDQHvhI5xHGi4EooO2BR7k78PEkJOdL7cAxQUZ/Tyclu9gnfwGgOmm2lNHGNmZXsq4Pqgc1EG1ATrvKl8s4R9ywwnqulGUnaRLVhxy8v3ieUwy2hbooT68uscW++DCDH0WSzuoyN2D4LUJ/tLECbcSKznwMIFs0ChF4mRTCnQbIIfk4SHJo6A9BMuTnXTs3Ku/KxsgZWqzuSe+Os8cEUfnMBY6UF5gi3SUbd5K7vDjq5WW0UENJlRsWn4sy21Er/E/AvPQSFHy1p4fgAAAAASUVORK5CYII=');  background-repeat: repeat-x;  background-size: 14px;  height: 28px;}\n",
       "</style>\n"
      ],
      "text/plain": [
       "<IPython.core.display.HTML object>"
      ]
     },
     "metadata": {},
     "output_type": "display_data"
    },
    {
     "name": "stdout",
     "output_type": "stream",
     "text": [
      "[LightGBM] [Warning] feature_fraction is set=0.8, colsample_bytree=1.0 will be ignored. Current value: feature_fraction=0.8\n",
      "[LightGBM] [Warning] bagging_fraction is set=0.8, subsample=1.0 will be ignored. Current value: bagging_fraction=0.8\n",
      "LGBM_model:              0.08594700914643276\n",
      "RandomForest_model:      0.08391435541327585\n",
      "DecisionTree_model:      0.21840744798135706\n",
      "GradientBoosting_model:  0.0835690848275912\n",
      "AdaBoost_model:          0.15727760821793235\n"
     ]
    }
   ],
   "source": [
    "from sklearn.model_selection import train_test_split\n",
    "X_train = train[All_feature_columns].values\n",
    "xd_train,xd_test,yd_train,yd_test = train_test_split(X_train,y_count,random_state=0)\n",
    "#对各种回归模型进行训练、调参、测试\n",
    "#LGBM\n",
    "from lightgbm import LGBMRegressor\n",
    "def LGBM_model():\n",
    "    LGBM = LGBMRegressor(boosting_type='gbdt', objective='regression', num_leaves=1200,\n",
    "                                learning_rate=0.17, n_estimators=1000, max_depth=10,\n",
    "                                metric='rmse', bagging_fraction=0.8, feature_fraction=0.8, reg_lambda=0.9)\n",
    "    LGBM.fit(xd_train, yd_train)\n",
    "    pre_test = LGBM.predict(xd_test)\n",
    "    score = rmsle(yd_test,pre_test)\n",
    "    return score\n",
    "\n",
    "#RandomFoest\n",
    "from sklearn.ensemble import RandomForestRegressor\n",
    "def RandomForest_model():\n",
    "    RFR = RandomForestRegressor(n_estimators = 1000, max_depth=15, random_state=0,n_jobs = -1)\n",
    "    RFR.fit(xd_train,yd_train)\n",
    "    pre_test = RFR.predict(xd_test)\n",
    "    score = rmsle(yd_test,pre_test)\n",
    "    return score\n",
    "\n",
    "#DecisionTreeRegressor\n",
    "from sklearn.tree import DecisionTreeRegressor\n",
    "def DecisionTree_model():\n",
    "    DTR = DecisionTreeRegressor(max_features='sqrt', splitter='random', min_samples_split=4, max_depth=10)\n",
    "    DTR.fit(xd_train,yd_train)\n",
    "    pre_test = DTR.predict(xd_test)\n",
    "    score = rmsle(yd_test,pre_test)\n",
    "    return score\n",
    "\n",
    "#GradientBoostingRegressor\n",
    "from sklearn.ensemble import GradientBoostingRegressor\n",
    "def GradientBoosting_model():\n",
    "    GBR = GradientBoostingRegressor(n_estimators = 1000, max_depth = 5, random_state = 0)\n",
    "    GBR.fit(xd_train,yd_train)\n",
    "    pre_test = GBR.predict(xd_test)\n",
    "    score = rmsle(yd_test,pre_test)\n",
    "    return score\n",
    "\n",
    "#LogisticRegression\n",
    "from sklearn.linear_model import LogisticRegression\n",
    "def Logisic_model():\n",
    "    LG = LogisticRegression(penalty=\"l2\",tol=0.0001, C=1.0, solver= \"lbfgs\", max_iter=3000,multi_class='ovr', verbose=O)\n",
    "    LG.fit(xd_train,yd_train)\n",
    "    pre_test = LG.predict(xd_test)\n",
    "    score = rmsle(yd_test,pre_test)\n",
    "    return score\n",
    "\n",
    "#AdaBoost\n",
    "from sklearn.ensemble import AdaBoostRegressor\n",
    "def AdaBoost_model():\n",
    "    ABR = AdaBoostRegressor(learning_rate=0.1, loss='square', n_estimators=1000)\n",
    "    ABR.fit(xd_train,yd_train)\n",
    "    # 给出训练数据的预测值\n",
    "    pre_test = ABR.predict(xd_test)\n",
    "    # 计算RMSLE\n",
    "    score = rmsle(yd_test,pre_test)\n",
    "    return score\n",
    "\n",
    "\n",
    "print(\"LGBM_model:             \",LGBM_model())\n",
    "print(\"RandomForest_model:     \",RandomForest_model())\n",
    "print(\"DecisionTree_model:     \",DecisionTree_model())\n",
    "print(\"GradientBoosting_model: \",GradientBoosting_model())\n",
    "print(\"AdaBoost_model:         \",AdaBoost_model())"
   ]
  },
  {
   "cell_type": "code",
   "execution_count": 22,
   "id": "34282e4e",
   "metadata": {
    "ExecuteTime": {
     "end_time": "2022-05-25T13:11:38.03917Z",
     "start_time": "2022-05-25T13:06:09.483007Z"
    },
    "execution": {
     "iopub.execute_input": "2023-12-08T15:15:28.441601Z",
     "iopub.status.busy": "2023-12-08T15:15:28.440800Z",
     "iopub.status.idle": "2023-12-08T15:16:09.191061Z",
     "shell.execute_reply": "2023-12-08T15:16:09.189876Z"
    },
    "papermill": {
     "duration": 40.791703,
     "end_time": "2023-12-08T15:16:09.211933",
     "exception": false,
     "start_time": "2023-12-08T15:15:28.420230",
     "status": "completed"
    },
    "tags": []
   },
   "outputs": [
    {
     "name": "stdout",
     "output_type": "stream",
     "text": [
      "model拟合程度: 0.9626319689534009\n",
      "model拟合程度: 0.9742280635936635\n",
      "model拟合程度: 0.9757046602261039\n"
     ]
    }
   ],
   "source": [
    "#RandomForest\n",
    "from sklearn.ensemble import RandomForestRegressor\n",
    "params = {'n_estimators': 1000, \n",
    "          'max_depth': 15, \n",
    "          'random_state': 0, \n",
    "          'min_samples_split' : 5, \n",
    "          'n_jobs': -1}\n",
    "\n",
    "RFR1 = RandomForestRegressor(**params)\n",
    "RFR1.fit(RFR_X_train,y_casual)\n",
    "print(\"model拟合程度:\",RFR1.score(RFR_X_train,y_casual))\n",
    "\n",
    "RFR2 = RandomForestRegressor(**params)\n",
    "RFR2.fit(RFR_X_train,y_registered)\n",
    "print(\"model拟合程度:\",RFR2.score(RFR_X_train,y_registered))\n",
    "\n",
    "RFR3 = RandomForestRegressor(**params)\n",
    "RFR3.fit(RFR_X_train,y_count)\n",
    "print(\"model拟合程度:\",RFR3.score(RFR_X_train,y_count))"
   ]
  },
  {
   "cell_type": "code",
   "execution_count": 23,
   "id": "05be7fab",
   "metadata": {
    "execution": {
     "iopub.execute_input": "2023-12-08T15:16:09.250126Z",
     "iopub.status.busy": "2023-12-08T15:16:09.249661Z",
     "iopub.status.idle": "2023-12-08T15:16:15.671060Z",
     "shell.execute_reply": "2023-12-08T15:16:15.669864Z"
    },
    "papermill": {
     "duration": 6.444059,
     "end_time": "2023-12-08T15:16:15.673993",
     "exception": false,
     "start_time": "2023-12-08T15:16:09.229934",
     "status": "completed"
    },
    "tags": []
   },
   "outputs": [
    {
     "name": "stderr",
     "output_type": "stream",
     "text": [
      "/opt/conda/lib/python3.7/site-packages/sklearn/ensemble/_gb.py:290: FutureWarning: The loss 'ls' was deprecated in v1.0 and will be removed in version 1.2. Use 'squared_error' which is equivalent.\n",
      "  FutureWarning,\n"
     ]
    },
    {
     "name": "stdout",
     "output_type": "stream",
     "text": [
      "model拟合程度: 0.9203957622947261\n"
     ]
    },
    {
     "name": "stderr",
     "output_type": "stream",
     "text": [
      "/opt/conda/lib/python3.7/site-packages/sklearn/ensemble/_gb.py:290: FutureWarning: The loss 'ls' was deprecated in v1.0 and will be removed in version 1.2. Use 'squared_error' which is equivalent.\n",
      "  FutureWarning,\n"
     ]
    },
    {
     "name": "stdout",
     "output_type": "stream",
     "text": [
      "model拟合程度: 0.9690481215133022\n"
     ]
    },
    {
     "name": "stderr",
     "output_type": "stream",
     "text": [
      "/opt/conda/lib/python3.7/site-packages/sklearn/ensemble/_gb.py:290: FutureWarning: The loss 'ls' was deprecated in v1.0 and will be removed in version 1.2. Use 'squared_error' which is equivalent.\n",
      "  FutureWarning,\n"
     ]
    },
    {
     "name": "stdout",
     "output_type": "stream",
     "text": [
      "model拟合程度: 0.9693564748984175\n"
     ]
    }
   ],
   "source": [
    "#GradientBoostingRegressor\n",
    "from sklearn.ensemble import GradientBoostingRegressor\n",
    "\n",
    "params2 = {'n_estimators': 150, \n",
    "           'max_depth': 5, \n",
    "           'random_state': 0, \n",
    "           'min_samples_leaf' : 10, \n",
    "           'learning_rate': 0.1, \n",
    "           'subsample': 0.7, \n",
    "           'loss': 'ls'}\n",
    "\n",
    "GBR1 = GradientBoostingRegressor(**params2)\n",
    "GBR1.fit(GBR_X_train,y_casual)\n",
    "print(\"model拟合程度:\",GBR1.score(GBR_X_train,y_casual))\n",
    "\n",
    "GBR2 = GradientBoostingRegressor(**params2)\n",
    "GBR2.fit(GBR_X_train,y_registered)\n",
    "print(\"model拟合程度:\",GBR2.score(GBR_X_train,y_registered))\n",
    "\n",
    "GBR3 = GradientBoostingRegressor(**params2)\n",
    "GBR3.fit(GBR_X_train,y_count)\n",
    "print(\"model拟合程度:\",GBR3.score(GBR_X_train,y_count))"
   ]
  },
  {
   "cell_type": "code",
   "execution_count": 24,
   "id": "150f1e88",
   "metadata": {
    "ExecuteTime": {
     "end_time": "2022-05-25T13:11:38.079064Z",
     "start_time": "2022-05-25T13:11:38.079064Z"
    },
    "execution": {
     "iopub.execute_input": "2023-12-08T15:16:15.714075Z",
     "iopub.status.busy": "2023-12-08T15:16:15.713581Z",
     "iopub.status.idle": "2023-12-08T15:16:17.001633Z",
     "shell.execute_reply": "2023-12-08T15:16:17.000404Z"
    },
    "papermill": {
     "duration": 1.311783,
     "end_time": "2023-12-08T15:16:17.004911",
     "exception": false,
     "start_time": "2023-12-08T15:16:15.693128",
     "status": "completed"
    },
    "tags": []
   },
   "outputs": [],
   "source": [
    "RFR_pre_casual = RFR1.predict(RFR_X_test)\n",
    "RFR_pre_casual=np.exp(RFR_pre_casual)-1\n",
    "RFR_pre_registered = RFR2.predict(RFR_X_test)\n",
    "RFR_pre_registered=np.exp(RFR_pre_registered)-1\n",
    "RFR_pre = RFR_pre_casual+RFR_pre_registered\n",
    "\n",
    "GBR_pre_casual = GBR1.predict(GBR_X_test)\n",
    "GBR_pre_casual=np.exp(GBR_pre_casual)-1\n",
    "GBR_pre_registered = GBR2.predict(GBR_X_test)\n",
    "GBR_pre_registered=np.exp(GBR_pre_registered)-1\n",
    "GBR_pre = GBR_pre_casual+GBR_pre_registered\n",
    "\n",
    "submit = pd.DataFrame({'datetime':X_date,'count':0.21*RFR_pre+0.79*GBR_pre})\n",
    "submit.to_csv('/kaggle/working/submisssion.csv',index=False)"
   ]
  },
  {
   "cell_type": "code",
   "execution_count": null,
   "id": "f6dee1e7",
   "metadata": {
    "papermill": {
     "duration": 0.019845,
     "end_time": "2023-12-08T15:16:17.044283",
     "exception": false,
     "start_time": "2023-12-08T15:16:17.024438",
     "status": "completed"
    },
    "tags": []
   },
   "outputs": [],
   "source": []
  },
  {
   "cell_type": "code",
   "execution_count": null,
   "id": "47c106e0",
   "metadata": {
    "papermill": {
     "duration": 0.019035,
     "end_time": "2023-12-08T15:16:17.081910",
     "exception": false,
     "start_time": "2023-12-08T15:16:17.062875",
     "status": "completed"
    },
    "tags": []
   },
   "outputs": [],
   "source": []
  },
  {
   "cell_type": "code",
   "execution_count": null,
   "id": "b9113372",
   "metadata": {
    "papermill": {
     "duration": 0.018266,
     "end_time": "2023-12-08T15:16:17.118741",
     "exception": false,
     "start_time": "2023-12-08T15:16:17.100475",
     "status": "completed"
    },
    "tags": []
   },
   "outputs": [],
   "source": []
  }
 ],
 "metadata": {
  "kaggle": {
   "accelerator": "none",
   "dataSources": [
    {
     "databundleVersionId": 32624,
     "sourceId": 3948,
     "sourceType": "competition"
    }
   ],
   "dockerImageVersionId": 30197,
   "isGpuEnabled": false,
   "isInternetEnabled": true,
   "language": "python",
   "sourceType": "notebook"
  },
  "kernelspec": {
   "display_name": "Python 3",
   "language": "python",
   "name": "python3"
  },
  "language_info": {
   "codemirror_mode": {
    "name": "ipython",
    "version": 3
   },
   "file_extension": ".py",
   "mimetype": "text/x-python",
   "name": "python",
   "nbconvert_exporter": "python",
   "pygments_lexer": "ipython3",
   "version": "3.7.12"
  },
  "papermill": {
   "default_parameters": {},
   "duration": 143.405329,
   "end_time": "2023-12-08T15:16:18.161571",
   "environment_variables": {},
   "exception": null,
   "input_path": "__notebook__.ipynb",
   "output_path": "__notebook__.ipynb",
   "parameters": {},
   "start_time": "2023-12-08T15:13:54.756242",
   "version": "2.3.4"
  }
 },
 "nbformat": 4,
 "nbformat_minor": 5
}
